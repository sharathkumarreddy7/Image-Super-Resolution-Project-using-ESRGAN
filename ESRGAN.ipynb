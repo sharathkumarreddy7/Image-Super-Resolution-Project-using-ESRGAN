{
  "nbformat": 4,
  "nbformat_minor": 0,
  "metadata": {
    "colab": {
      "provenance": [],
      "gpuType": "T4"
    },
    "kernelspec": {
      "name": "python3",
      "display_name": "Python 3"
    },
    "language_info": {
      "name": "python"
    },
    "accelerator": "GPU"
  },
  "cells": [
    {
      "cell_type": "code",
      "source": [
        "!git clone https://github.com/sharathkumarreddy7/Image-Super-Resolution-Project-using-ESRGAN.git"
      ],
      "metadata": {
        "colab": {
          "base_uri": "https://localhost:8080/"
        },
        "id": "nqRhvPVSQZ9r",
        "outputId": "2f395d96-5ae5-4296-8160-bddb0101616c"
      },
      "execution_count": 1,
      "outputs": [
        {
          "output_type": "stream",
          "name": "stdout",
          "text": [
            "Cloning into 'Image-Super-Resolution-Project-using-ESRGAN'...\n",
            "remote: Enumerating objects: 45, done.\u001b[K\n",
            "remote: Counting objects: 100% (7/7), done.\u001b[K\n",
            "remote: Compressing objects: 100% (6/6), done.\u001b[K\n",
            "remote: Total 45 (delta 1), reused 3 (delta 0), pack-reused 38\u001b[K\n",
            "Receiving objects: 100% (45/45), 67.81 MiB | 16.94 MiB/s, done.\n",
            "Resolving deltas: 100% (5/5), done.\n"
          ]
        }
      ]
    },
    {
      "cell_type": "code",
      "execution_count": 2,
      "metadata": {
        "colab": {
          "base_uri": "https://localhost:8080/"
        },
        "id": "rtgdcWTVMVj7",
        "outputId": "462aae14-f355-4072-e175-af9d18e031ed"
      },
      "outputs": [
        {
          "output_type": "stream",
          "name": "stdout",
          "text": [
            "\u001b[0m\u001b[01;34mdrive\u001b[0m/  \u001b[01;34mImage-Super-Resolution-Project-using-ESRGAN\u001b[0m/  \u001b[01;34msample_data\u001b[0m/\n"
          ]
        }
      ],
      "source": [
        "%ls"
      ]
    },
    {
      "cell_type": "code",
      "source": [
        "%cd Image-Super-Resolution-Project-using-ESRGAN"
      ],
      "metadata": {
        "colab": {
          "base_uri": "https://localhost:8080/"
        },
        "id": "opW8Yij1Sqaz",
        "outputId": "dfa78a6b-27f5-42ea-a523-a91bdc790314"
      },
      "execution_count": 3,
      "outputs": [
        {
          "output_type": "stream",
          "name": "stdout",
          "text": [
            "/content/Image-Super-Resolution-Project-using-ESRGAN\n"
          ]
        }
      ]
    },
    {
      "cell_type": "code",
      "source": [
        "!python test.py"
      ],
      "metadata": {
        "colab": {
          "base_uri": "https://localhost:8080/"
        },
        "id": "rDfoqZ8IS-Ow",
        "outputId": "2d19c53f-7f58-433f-c38e-9ff7af144823"
      },
      "execution_count": 4,
      "outputs": [
        {
          "output_type": "stream",
          "name": "stdout",
          "text": [
            "Model path models/RRDB_ESRGAN_x4.pth. \n",
            "Testing...\n",
            "1 dc6741f3-db7e-4544-9890-9314b49dcaaf\n",
            "2 hqdefault-2\n",
            "3 pawan-kalyan\n"
          ]
        }
      ]
    },
    {
      "cell_type": "code",
      "source": [],
      "metadata": {
        "id": "ZA4pwQy3V0JB"
      },
      "execution_count": null,
      "outputs": []
    }
  ]
}